{
 "metadata": {
  "kernelspec": {
   "language": "python",
   "display_name": "Python 3",
   "name": "python3"
  },
  "language_info": {
   "pygments_lexer": "ipython3",
   "nbconvert_exporter": "python",
   "version": "3.6.4",
   "file_extension": ".py",
   "codemirror_mode": {
    "name": "ipython",
    "version": 3
   },
   "name": "python",
   "mimetype": "text/x-python"
  },
  "kaggle": {
   "accelerator": "gpu",
   "dataSources": [
    {
     "sourceId": 3200379,
     "sourceType": "datasetVersion",
     "datasetId": 1942455
    }
   ],
   "dockerImageVersionId": 30407,
   "isInternetEnabled": false,
   "language": "python",
   "sourceType": "notebook",
   "isGpuEnabled": true
  }
 },
 "nbformat_minor": 4,
 "nbformat": 4,
 "cells": [
  {
   "cell_type": "markdown",
   "source": "# YOLOv8\nYOLOv8 is the newest state-of-the-art YOLO model that can be used for object detection, image classification, and instance segmentation tasks.<br>\nYOLOv8 includes numerous architectural and developer experience changes and improvements over YOLOv5.<br>\n\n## Why Should I Use YOLOv8?\n* YOLOv8 has a high rate of accuracy measured by COCO and Roboflow 100.\n* YOLOv8 comes with a lot of developer-convenience features, from an easy-to-use CLI to a well-structured Python package.",
   "metadata": {}
  },
  {
   "cell_type": "markdown",
   "source": "## Install ultralytics",
   "metadata": {}
  },
  {
   "cell_type": "code",
   "source": "# Install ultralytics\n!pip install ultralytics",
   "metadata": {
    "_kg_hide-output": true,
    "execution": {
     "iopub.status.busy": "2023-03-29T13:40:23.585157Z",
     "iopub.execute_input": "2023-03-29T13:40:23.585866Z",
     "iopub.status.idle": "2023-03-29T13:40:39.740917Z",
     "shell.execute_reply.started": "2023-03-29T13:40:23.58583Z",
     "shell.execute_reply": "2023-03-29T13:40:39.73967Z"
    },
    "trusted": true
   },
   "execution_count": null,
   "outputs": []
  },
  {
   "cell_type": "code",
   "source": "%matplotlib inline\n\nimport numpy as np\nimport matplotlib.pyplot as plt\nimport random\nimport os\nimport cv2\nimport shutil\nimport tqdm\nimport glob",
   "metadata": {
    "execution": {
     "iopub.status.busy": "2023-03-29T13:42:18.3326Z",
     "iopub.execute_input": "2023-03-29T13:42:18.332963Z",
     "iopub.status.idle": "2023-03-29T13:42:18.341881Z",
     "shell.execute_reply.started": "2023-03-29T13:42:18.332931Z",
     "shell.execute_reply": "2023-03-29T13:42:18.340705Z"
    },
    "trusted": true,
    "ExecuteTime": {
     "end_time": "2024-07-13T14:50:27.003098Z",
     "start_time": "2024-07-13T14:50:26.984169Z"
    }
   },
   "outputs": [],
   "execution_count": 2
  },
  {
   "cell_type": "code",
   "source": "# Check GPU is working or not\nimport torch\nprint(f\"Using torch {torch.__version__} ({torch.cuda.get_device_properties(0).name if torch.cuda.is_available() else 'CPU'})\")",
   "metadata": {
    "execution": {
     "iopub.status.busy": "2023-03-29T13:40:51.75646Z",
     "iopub.execute_input": "2023-03-29T13:40:51.75752Z",
     "iopub.status.idle": "2023-03-29T13:40:54.276177Z",
     "shell.execute_reply.started": "2023-03-29T13:40:51.757473Z",
     "shell.execute_reply": "2023-03-29T13:40:54.274986Z"
    },
    "trusted": true
   },
   "execution_count": null,
   "outputs": []
  },
  {
   "cell_type": "code",
   "source": "images_path = '/kaggle/input/colorful-fashion-dataset-for-object-detection/colorful_fashion_dataset_for_object_detection/JPEGImages/'\nannotations_path  = '/kaggle/input/colorful-fashion-dataset-for-object-detection/colorful_fashion_dataset_for_object_detection/Annotations_txt/'\npath = '/kaggle/input/colorful-fashion-dataset-for-object-detection/colorful_fashion_dataset_for_object_detection/'",
   "metadata": {
    "execution": {
     "iopub.status.busy": "2023-03-29T13:40:57.878766Z",
     "iopub.execute_input": "2023-03-29T13:40:57.880018Z",
     "iopub.status.idle": "2023-03-29T13:40:57.885505Z",
     "shell.execute_reply.started": "2023-03-29T13:40:57.879968Z",
     "shell.execute_reply": "2023-03-29T13:40:57.884182Z"
    },
    "trusted": true
   },
   "execution_count": null,
   "outputs": []
  },
  {
   "cell_type": "markdown",
   "source": "# Try YOLOv8",
   "metadata": {}
  },
  {
   "cell_type": "code",
   "source": [
    "from ultralytics import YOLO\n",
    "\n",
    "# load pre-trained model\n",
    "detection_model = YOLO(\"model/yolov8x.pt\")"
   ],
   "metadata": {
    "execution": {
     "iopub.status.busy": "2023-03-29T13:41:25.324378Z",
     "iopub.execute_input": "2023-03-29T13:41:25.325275Z",
     "iopub.status.idle": "2023-03-29T13:41:27.054981Z",
     "shell.execute_reply.started": "2023-03-29T13:41:25.325228Z",
     "shell.execute_reply": "2023-03-29T13:41:27.053905Z"
    },
    "trusted": true,
    "ExecuteTime": {
     "end_time": "2024-07-13T14:50:26.983163Z",
     "start_time": "2024-07-13T14:49:31.286990Z"
    }
   },
   "outputs": [
    {
     "name": "stdout",
     "output_type": "stream",
     "text": [
      "Downloading https://github.com/ultralytics/assets/releases/download/v8.2.0/yolov8x.pt to 'yolov8x.pt'...\n"
     ]
    },
    {
     "name": "stderr",
     "output_type": "stream",
     "text": [
      "100%|██████████| 131M/131M [00:47<00:00, 2.86MB/s] \n"
     ]
    }
   ],
   "execution_count": 1
  },
  {
   "cell_type": "code",
   "source": [
    "# choose random image\n",
    "model = \"./best.pt\"\n",
    "\n",
    "# load pre-trained model\n",
    "model = YOLO(model)\n",
    "\n",
    "# predict\n",
    "results = model(\"https://media.vogue.co.uk/photos/6308cb3007fcbdb5093e5cb6/2:3/w_2560%2Cc_limit/AP2608_OP21119_AP_Vogue_UK_5646_5_CMYK.jpg\", conf=0.4, line_thickness=3)\n",
    "\n",
    "for result in results:\n",
    "    boxes = result.boxes  # Boxes object for bounding box outputs\n",
    "    masks = result.masks  # Masks object for segmentation masks outputs\n",
    "    keypoints = result.keypoints  # Keypoints object for pose outputs\n",
    "    probs = result.probs  # Probs object for classification outputs\n",
    "    obb = result.obb  # Oriented boxes object for OBB outputs\n",
    "    result.show()  # display to screen"
   ],
   "metadata": {
    "execution": {
     "iopub.status.busy": "2023-03-29T13:42:23.102118Z",
     "iopub.execute_input": "2023-03-29T13:42:23.102686Z",
     "iopub.status.idle": "2023-03-29T13:42:23.966906Z",
     "shell.execute_reply.started": "2023-03-29T13:42:23.102648Z",
     "shell.execute_reply": "2023-03-29T13:42:23.965509Z"
    },
    "trusted": true,
    "jupyter": {
     "is_executing": true
    }
   },
   "outputs": [],
   "execution_count": null
  },
  {
   "cell_type": "markdown",
   "source": "# Plot Training Data with Annotations",
   "metadata": {}
  },
  {
   "cell_type": "code",
   "source": "def convert(size,x,y,w,h):\n    box = np.zeros(4)\n    dw = 1./size[0]\n    dh = 1./size[1]\n    x = x/dw\n    w = w/dw\n    y = y/dh\n    h = h/dh\n    box[0] = x-(w/2.0)\n    box[1] = x+(w/2.0)\n    box[2] = y-(h/2.0)\n    box[3] = y+(h/2.0)\n\n    return (box)\n\ndef plot_annotations(img, filename):\n    with open(annotations_path+filename, 'r') as f:\n        for line in f:\n            value = line.split()\n            cls = int(value[0])\n            x = float(value[1])\n            y = float(value[2])\n            w = float(value[3])\n            h = float(value[4])\n            \n            img_h, img_w = img.shape[:2]\n            bb = convert((img_w, img_h), x,y,w,h)\n            cv2.rectangle(img, (int(round(bb[0])),int(round(bb[2]))),(int(round(bb[1])),int(round(bb[3]))),(255,0,0),2)\n            plt.axis('off')\n            plt.imshow(img)",
   "metadata": {
    "_kg_hide-input": true,
    "execution": {
     "iopub.status.busy": "2023-03-29T13:42:36.078162Z",
     "iopub.execute_input": "2023-03-29T13:42:36.078648Z",
     "iopub.status.idle": "2023-03-29T13:42:36.098475Z",
     "shell.execute_reply.started": "2023-03-29T13:42:36.078605Z",
     "shell.execute_reply": "2023-03-29T13:42:36.097293Z"
    },
    "trusted": true
   },
   "execution_count": null,
   "outputs": []
  },
  {
   "cell_type": "code",
   "source": "import os\nimport random\nimport matplotlib.pyplot as plt\nimport cv2\nimport numpy as np\n\nplt.figure(figsize=(20,12))\nls = os.listdir(images_path)\nc = 1\nfor i in random.sample(ls, 10):\n    img = plt.imread(images_path+i)\n    i = i.rstrip('.jpg') + '.txt'\n    plt.subplot(2,5, c)\n    plot_annotations(img, i)\n    c+=1",
   "metadata": {
    "execution": {
     "iopub.status.busy": "2023-03-29T13:42:37.682048Z",
     "iopub.execute_input": "2023-03-29T13:42:37.683062Z",
     "iopub.status.idle": "2023-03-29T13:42:41.294573Z",
     "shell.execute_reply.started": "2023-03-29T13:42:37.68301Z",
     "shell.execute_reply": "2023-03-29T13:42:41.291129Z"
    },
    "trusted": true
   },
   "execution_count": null,
   "outputs": []
  },
  {
   "cell_type": "markdown",
   "source": "# Prepare Dataset",
   "metadata": {}
  },
  {
   "cell_type": "code",
   "source": "train = []\nwith open(path+'ImageSets/Main/trainval.txt', 'r') as f:\n    for line in f.readlines():\n        if line[-1]=='\\n':\n            line = line[:-1]\n        train.append(line)\n\ntest = []\nwith open(path+'ImageSets/Main/test.txt', 'r') as f:\n    for line in f.readlines():\n        if line[-1]=='\\n':\n            line = line[:-1]\n        test.append(line)",
   "metadata": {
    "execution": {
     "iopub.status.busy": "2023-03-29T13:44:24.092227Z",
     "iopub.execute_input": "2023-03-29T13:44:24.092922Z",
     "iopub.status.idle": "2023-03-29T13:44:24.105285Z",
     "shell.execute_reply.started": "2023-03-29T13:44:24.092884Z",
     "shell.execute_reply": "2023-03-29T13:44:24.104324Z"
    },
    "trusted": true
   },
   "execution_count": null,
   "outputs": []
  },
  {
   "cell_type": "code",
   "source": "len(train), len(test)",
   "metadata": {
    "execution": {
     "iopub.status.busy": "2023-03-29T13:44:26.945108Z",
     "iopub.execute_input": "2023-03-29T13:44:26.945781Z",
     "iopub.status.idle": "2023-03-29T13:44:26.953714Z",
     "shell.execute_reply.started": "2023-03-29T13:44:26.945744Z",
     "shell.execute_reply": "2023-03-29T13:44:26.951704Z"
    },
    "trusted": true
   },
   "execution_count": null,
   "outputs": []
  },
  {
   "cell_type": "code",
   "source": "os.mkdir('train')\nos.mkdir('train/images')\nos.mkdir('train/labels')\n\nos.mkdir('test')\nos.mkdir('test/images')\nos.mkdir('test/labels')",
   "metadata": {
    "execution": {
     "iopub.status.busy": "2023-03-29T13:44:30.192292Z",
     "iopub.execute_input": "2023-03-29T13:44:30.192649Z",
     "iopub.status.idle": "2023-03-29T13:44:30.198607Z",
     "shell.execute_reply.started": "2023-03-29T13:44:30.192617Z",
     "shell.execute_reply": "2023-03-29T13:44:30.197448Z"
    },
    "trusted": true
   },
   "execution_count": null,
   "outputs": []
  },
  {
   "cell_type": "code",
   "source": "train_path = '/kaggle/working/train/'\ntest_path = '/kaggle/working/test/'\n\nprint('Copying Train Data..!!')\nfor i in tqdm.tqdm(train):\n    a = shutil.copyfile(images_path+i+'.jpg', train_path+'images/'+i+'.jpg')\n    a = shutil.copyfile(annotations_path+i+'.txt', train_path+'labels/'+i+'.txt')\n\nprint('Copying Test Data..!!')\nfor i in tqdm.tqdm(test):\n    a = shutil.copyfile(images_path+i+'.jpg', test_path+'images/'+i+'.jpg')\n    a = shutil.copyfile(annotations_path+i+'.txt', test_path+'labels/'+i+'.txt')",
   "metadata": {
    "execution": {
     "iopub.status.busy": "2023-03-29T13:44:33.555293Z",
     "iopub.execute_input": "2023-03-29T13:44:33.556444Z",
     "iopub.status.idle": "2023-03-29T13:45:07.668176Z",
     "shell.execute_reply.started": "2023-03-29T13:44:33.556397Z",
     "shell.execute_reply": "2023-03-29T13:45:07.667192Z"
    },
    "trusted": true
   },
   "execution_count": null,
   "outputs": []
  },
  {
   "cell_type": "markdown",
   "source": "# Train Custom Model",
   "metadata": {}
  },
  {
   "cell_type": "code",
   "source": "text = \"\"\"\ntrain: /kaggle/working/train\nval: /kaggle/working/test\n\n# number of classes\nnc: 10\n\n# class names\nnames: ['sunglass','hat','jacket','shirt','pants','shorts','skirt','dress','bag','shoe']\n\"\"\"\nwith open(\"data.yaml\", 'w') as file:\n    file.write(text)",
   "metadata": {
    "execution": {
     "iopub.status.busy": "2023-03-29T13:45:19.522953Z",
     "iopub.execute_input": "2023-03-29T13:45:19.52341Z",
     "iopub.status.idle": "2023-03-29T13:45:19.529406Z",
     "shell.execute_reply.started": "2023-03-29T13:45:19.523375Z",
     "shell.execute_reply": "2023-03-29T13:45:19.528275Z"
    },
    "trusted": true
   },
   "execution_count": null,
   "outputs": []
  },
  {
   "cell_type": "code",
   "source": "model = YOLO(\"yolov8m.pt\")\n\nmodel.train(data='data.yaml', epochs=5)",
   "metadata": {
    "_kg_hide-output": true,
    "execution": {
     "iopub.status.busy": "2023-03-29T13:45:30.588718Z",
     "iopub.execute_input": "2023-03-29T13:45:30.589094Z",
     "iopub.status.idle": "2023-03-29T14:00:20.454495Z",
     "shell.execute_reply.started": "2023-03-29T13:45:30.589061Z",
     "shell.execute_reply": "2023-03-29T14:00:20.453385Z"
    },
    "trusted": true
   },
   "execution_count": null,
   "outputs": []
  },
  {
   "cell_type": "code",
   "source": "%matplotlib inline\nmodel_path = 'runs/detect/train/'\n\ndef plot(ls, size):\n    c=1\n    plt.figure(figsize=(15,10))\n    for im in ls:\n        plt.subplot(size[0],size[1],c)\n        im = plt.imread(model_path+im)\n        plt.imshow(im)\n        c+=1\n    plt.show()\n\nplot(['P_curve.png','R_curve.png'], (1,2))\nplot(['F1_curve.png','PR_curve.png'], (1,2))\nplot(['confusion_matrix.png','labels.jpg'], (1,2))\nplot(['results.png'],(1,1))",
   "metadata": {
    "execution": {
     "iopub.status.busy": "2023-03-29T14:16:29.473526Z",
     "iopub.execute_input": "2023-03-29T14:16:29.473983Z",
     "iopub.status.idle": "2023-03-29T14:16:35.254043Z",
     "shell.execute_reply.started": "2023-03-29T14:16:29.473937Z",
     "shell.execute_reply": "2023-03-29T14:16:35.252975Z"
    },
    "_kg_hide-input": true,
    "trusted": true
   },
   "execution_count": null,
   "outputs": []
  },
  {
   "cell_type": "markdown",
   "source": "# Test Model",
   "metadata": {}
  },
  {
   "cell_type": "code",
   "source": "# choose random image from dataset\nplt.figure(figsize=(20,20))\nimgs = random.sample(os.listdir(images_path), 6)\nc=1\nfor img in imgs:\n    i=model.predict(source=images_path+img, conf=0.4, save=True, line_thickness=2)\n\n    im = plt.imread('/kaggle/working/runs/detect/predict2/'+img)\n    plt.subplot(2,3,c)\n    plt.axis('off')\n    plt.imshow(im)\n    c+=1",
   "metadata": {
    "execution": {
     "iopub.status.busy": "2023-03-29T14:17:39.288568Z",
     "iopub.execute_input": "2023-03-29T14:17:39.289475Z",
     "iopub.status.idle": "2023-03-29T14:17:42.051697Z",
     "shell.execute_reply.started": "2023-03-29T14:17:39.289426Z",
     "shell.execute_reply": "2023-03-29T14:17:42.050309Z"
    },
    "trusted": true
   },
   "execution_count": null,
   "outputs": []
  }
 ]
}
